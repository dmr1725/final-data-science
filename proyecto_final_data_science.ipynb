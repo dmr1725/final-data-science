{
  "nbformat": 4,
  "nbformat_minor": 0,
  "metadata": {
    "colab": {
      "name": "proyecto_final_data_science.ipynb",
      "provenance": [],
      "collapsed_sections": [],
      "authorship_tag": "ABX9TyPZ7egiXZjPvwTgXQ5x0QZR",
      "include_colab_link": true
    },
    "kernelspec": {
      "name": "ir",
      "display_name": "R"
    },
    "language_info": {
      "name": "R"
    }
  },
  "cells": [
    {
      "cell_type": "markdown",
      "metadata": {
        "id": "view-in-github",
        "colab_type": "text"
      },
      "source": [
        "<a href=\"https://colab.research.google.com/github/dmr1725/final-data-science/blob/master/proyecto_final_data_science.ipynb\" target=\"_parent\"><img src=\"https://colab.research.google.com/assets/colab-badge.svg\" alt=\"Open In Colab\"/></a>"
      ]
    },
    {
      "cell_type": "markdown",
      "source": [
        "This is a reproduction from https://github.com/c2-d2/pr_mort_official\n",
        "## Adjusting for the missing households of size 1\n",
        "\n",
        "If your code doesn't run, you need the following files under the sample_data directory:\n",
        "1. death.RDS\n",
        "2. hh_main.RDS\n",
        "3. ind_hh.RDS\n",
        "4. official_long.RDS\n",
        "5. deaths_official.RDS\n",
        "6. ACS2016.Rdata\n",
        "7. adj_rates.RDS\n",
        "\n",
        "These files can be found in the above github link under the data directory. \n",
        "\n",
        "We start by importing the necessary libraries.\n"
      ],
      "metadata": {
        "id": "0R6vAg0Y-jq3"
      }
    },
    {
      "cell_type": "code",
      "source": [
        "library(tidyverse)\n",
        "library(lubridate)\n",
        "options(digits = 3)"
      ],
      "metadata": {
        "id": "VewvTgHr-sUN"
      },
      "execution_count": null,
      "outputs": []
    },
    {
      "cell_type": "markdown",
      "source": [
        "Now we import the data"
      ],
      "metadata": {
        "id": "ZyhPcK2K--PN"
      }
    },
    {
      "cell_type": "code",
      "source": [
        "deaths <- readRDS(\"./sample_data/deaths.RDS\")\n",
        "households <- readRDS(\"./sample_data/hh_main.RDS\")\n",
        "individuals <- readRDS(\"./sample_data/ind_hh.RDS\")\n",
        "official <- readRDS(\"./sample_data/official_long.RDS\")"
      ],
      "metadata": {
        "id": "WJDjmPMD_BGA"
      },
      "execution_count": null,
      "outputs": []
    },
    {
      "cell_type": "markdown",
      "source": [
        "Here, the after period of the hurricane is shorter than the before period. For our analysis, we will divide the fraction of year rather than the entire year. "
      ],
      "metadata": {
        "id": "_DPhFyUZCusn"
      }
    },
    {
      "cell_type": "code",
      "source": [
        "days_before_hurricane <- \n",
        "  difftime(ymd(\"2017-09-20\"), ymd(\"2016-12-31\"), units = \"days\") %>% \n",
        "  as.numeric() \n",
        "years_before <- days_before_hurricane/365\n",
        "years_after <- (365 - days_before_hurricane) / 365\n",
        "years_before\n",
        "years_after"
      ],
      "metadata": {
        "id": "nrD4VLxBCw35",
        "colab": {
          "base_uri": "https://localhost:8080/",
          "height": 51
        },
        "outputId": "c5e07c1a-74d4-4f0a-bbc6-86ee5c2ee784"
      },
      "execution_count": null,
      "outputs": [
        {
          "output_type": "display_data",
          "data": {
            "text/plain": [
              "[1] 0.721"
            ],
            "text/latex": "0.720547945205479",
            "text/markdown": "0.720547945205479",
            "text/html": [
              "0.720547945205479"
            ]
          },
          "metadata": {}
        },
        {
          "output_type": "display_data",
          "data": {
            "text/plain": [
              "[1] 0.279"
            ],
            "text/latex": "0.279452054794521",
            "text/markdown": "0.279452054794521",
            "text/html": [
              "0.279452054794521"
            ]
          },
          "metadata": {}
        }
      ]
    },
    {
      "cell_type": "markdown",
      "source": [
        "Below we calculate the before and after death rates by households. Also, we calculate the median of the median ages of each household for each of these groups. "
      ],
      "metadata": {
        "id": "rgPVGBtcC1Tk"
      }
    },
    {
      "cell_type": "code",
      "source": [
        "hh_stats <- households %>% \n",
        "  dplyr::select(hh_id, hh_size) %>% \n",
        "  filter(!is.na(hh_size) & hh_size>0) \n",
        "\n",
        "hh_deaths <- deaths %>%\n",
        "  mutate(death_after = mo > 9.1 ) %>%\n",
        "  group_by(hh_id) %>%\n",
        "  summarize(tot_before = sum(!death_after), tot_after = sum(death_after)) %>%\n",
        "  ungroup()\n",
        "\n",
        "hh_deaths$hh_id <- as.numeric(hh_deaths$hh_id)\n",
        "hh_stats$hh_id <- as.numeric(hh_stats$hh_id)"
      ],
      "metadata": {
        "id": "T3bKyhDdC2un"
      },
      "execution_count": null,
      "outputs": []
    },
    {
      "cell_type": "markdown",
      "source": [
        "Here we calculate the per household size group rates. We will divide into five groups to make sure that the death rates before the hurricane are low compared to after the hurricane."
      ],
      "metadata": {
        "id": "t9m31kGTC9Ot"
      }
    },
    {
      "cell_type": "code",
      "source": [
        "rates_by_hh_size <- left_join(hh_stats, hh_deaths, by = \"hh_id\") %>%\n",
        "  mutate(household_size = cut(hh_size, c(0,1,2,4,Inf), labels = c(\"1\",\"2\",\"3-4\",\"5+\"))) %>%\n",
        "  group_by(household_size) %>%\n",
        "  summarize(total_households = n(),\n",
        "            N = sum(hh_size),\n",
        "            deaths_before = sum(tot_before, na.rm = TRUE),\n",
        "            deaths_after = sum(tot_after, na.rm = TRUE)) %>%\n",
        "  mutate(rate_before = deaths_before/N*1000 / years_before,\n",
        "         rate_after = deaths_after/N*1000 / years_after)\n",
        "rates_by_hh_size %>% knitr::kable()"
      ],
      "metadata": {
        "colab": {
          "base_uri": "https://localhost:8080/",
          "height": 153
        },
        "id": "0XOCcp9rC-mY",
        "outputId": "27c903ad-ae00-4ef9-86e1-ab1d84c41d56"
      },
      "execution_count": null,
      "outputs": [
        {
          "output_type": "display_data",
          "data": {
            "text/plain": [
              "\n",
              "\n",
              "|household_size | total_households|    N| deaths_before| deaths_after| rate_before| rate_after|\n",
              "|:--------------|----------------:|----:|-------------:|------------:|-----------:|----------:|\n",
              "|1              |              534|  534|             0|            0|       0.000|       0.00|\n",
              "|2              |             1074| 2148|             9|           15|       5.815|      24.99|\n",
              "|3-4            |             1255| 4290|             8|           16|       2.588|      13.35|\n",
              "|5+             |              436| 2550|             1|            7|       0.544|       9.82|"
            ]
          },
          "metadata": {}
        }
      ]
    },
    {
      "cell_type": "markdown",
      "source": [
        "A problem that we're having is that the death rate of a household of 1 person is going to be 0. The reason for this is because if the only person that lives in a household dies, there is no other people to interview at that house. \n",
        "\n",
        "To avoid this problem, we will make a calculation that will treat the before and after death rate of a household of size 1 to have no effect on our analysis. Here, we compute the before and after September 20 rates for each year:"
      ],
      "metadata": {
        "id": "6cn4SQ68DFQF"
      }
    },
    {
      "cell_type": "code",
      "source": [
        "population_by_year <- readRDS(\"./sample_data/deaths_official.RDS\") %>%\n",
        "  dplyr::select(Year, Popv17)\n",
        "names(population_by_year) <- c(\"year\",\"pop\")\n",
        "days_in_month <- c(31,28,31,30,31,30,31,31,30,31,30,31)\n",
        "\n",
        "official_rates <- official %>% left_join(population_by_year, by = \"year\") %>%\n",
        "  mutate(days = days_in_month[month]) %>%\n",
        "  mutate(days = ifelse(year %% 4 == 0 & month ==2, days + 1, days)) %>%\n",
        "  mutate(rate = deaths / pop * 365/days * 1000) %>%\n",
        "  group_by(year) %>%\n",
        "  summarize(before_rate = sum(deaths*(month<9) + deaths*(month==9)*2/3) / pop[1] * 1000 *\n",
        "              sum(days)/(sum(days*(month<9))+20),\n",
        "            after_rate = sum(deaths*(month>9) + deaths*(month==9)*1/3) / pop[1] * 1000 *\n",
        "              sum(days)/(sum(days*(month>9))+10))"
      ],
      "metadata": {
        "id": "terRthHzDGkA"
      },
      "execution_count": null,
      "outputs": []
    },
    {
      "cell_type": "markdown",
      "source": [
        "Let's quickly check the rate estimate (full estimate and CI in excess_est.R)\n"
      ],
      "metadata": {
        "id": "nAuhYzIgDTLj"
      }
    },
    {
      "cell_type": "code",
      "source": [
        "pr_pop <- population_by_year %>% subset(year == 2016) %>% {.$pop}\n",
        "  \n",
        "res <- rates_by_hh_size %>% \n",
        "  summarize(survey_deaths = sum(deaths_after), \n",
        "            N = sum(N), \n",
        "            rate = round(survey_deaths/N*1000/years_after,1))\n",
        "\n",
        "t(res) "
      ],
      "metadata": {
        "colab": {
          "base_uri": "https://localhost:8080/",
          "height": 127
        },
        "id": "yJfOBYeEDUZH",
        "outputId": "0c5b429a-ae92-442f-8a6e-a4ceefcc6a08"
      },
      "execution_count": null,
      "outputs": [
        {
          "output_type": "display_data",
          "data": {
            "text/plain": [
              "              [,1]  \n",
              "survey_deaths   38.0\n",
              "N             9522.0\n",
              "rate            14.3"
            ],
            "text/latex": "A matrix: 3 × 1 of type dbl\n\\begin{tabular}{r|l}\n\tsurvey\\_deaths &   38.0\\\\\n\tN & 9522.0\\\\\n\trate &   14.3\\\\\n\\end{tabular}\n",
            "text/markdown": "\nA matrix: 3 × 1 of type dbl\n\n| survey_deaths |   38.0 |\n| N | 9522.0 |\n| rate |   14.3 |\n\n",
            "text/html": [
              "<table class=\"dataframe\">\n",
              "<caption>A matrix: 3 × 1 of type dbl</caption>\n",
              "<tbody>\n",
              "\t<tr><th scope=row>survey_deaths</th><td>  38.0</td></tr>\n",
              "\t<tr><th scope=row>N</th><td>9522.0</td></tr>\n",
              "\t<tr><th scope=row>rate</th><td>  14.3</td></tr>\n",
              "</tbody>\n",
              "</table>\n"
            ]
          },
          "metadata": {}
        }
      ]
    },
    {
      "cell_type": "markdown",
      "source": [
        "Here we take in consideration the 2017 before rate for both before and after rates for the 1 person households:"
      ],
      "metadata": {
        "id": "Jb7d8tt_DZAv"
      }
    },
    {
      "cell_type": "code",
      "source": [
        "rates_by_hh_size_adj <- rates_by_hh_size\n",
        "rates_by_hh_size_adj$rate_before[1] <- rates_by_hh_size_adj$rate_after[1] <- \n",
        "  official_rates %>%\n",
        "  filter(year == 2017) %>% \n",
        "  .$before_rate\n",
        "rates_by_hh_size_adj %>% knitr::kable()"
      ],
      "metadata": {
        "colab": {
          "base_uri": "https://localhost:8080/",
          "height": 153
        },
        "id": "alb0l_CaDb9f",
        "outputId": "524ebea5-d77a-4b32-8dc1-9ec8bce57209"
      },
      "execution_count": null,
      "outputs": [
        {
          "output_type": "display_data",
          "data": {
            "text/plain": [
              "\n",
              "\n",
              "|household_size | total_households|    N| deaths_before| deaths_after| rate_before| rate_after|\n",
              "|:--------------|----------------:|----:|-------------:|------------:|-----------:|----------:|\n",
              "|1              |              534|  534|             0|            0|       8.847|       8.85|\n",
              "|2              |             1074| 2148|             9|           15|       5.815|      24.99|\n",
              "|3-4            |             1255| 4290|             8|           16|       2.588|      13.35|\n",
              "|5+             |              436| 2550|             1|            7|       0.544|       9.82|"
            ]
          },
          "metadata": {}
        }
      ]
    },
    {
      "cell_type": "markdown",
      "source": [
        "Based on our problem above (households of 1 size), the survey of Dr. Irizarry is higher for larger households. \n",
        "\n",
        "The ACS2016 data can confirm this. "
      ],
      "metadata": {
        "id": "BnExA6_1D7kb"
      }
    },
    {
      "cell_type": "code",
      "source": [
        "load(\"./sample_data/ACS2016.Rdata\")\n",
        "household_dist <- acs.hh_size %>% \n",
        "  mutate(hh_size = cut(hh_size, c(0,1,2,4,Inf), labels = c(\"1\",\"2\",\"3-4\",\"5+\"))) %>%\n",
        "  group_by(hh_size)%>%\n",
        "  summarize(count = sum(count)) %>%\n",
        "  ungroup() %>%\n",
        "  mutate(pop_freq = count / sum(count)) "
      ],
      "metadata": {
        "id": "IYyobHsyD-Qz"
      },
      "execution_count": null,
      "outputs": []
    },
    {
      "cell_type": "markdown",
      "source": [
        "We can also adjust for this and obtain the following before and after rates:\n"
      ],
      "metadata": {
        "id": "qyy7ylP2DmfU"
      }
    },
    {
      "cell_type": "code",
      "source": [
        "res_2 <- rates_by_hh_size_adj %>%  left_join(household_dist, by = c(\"household_size\" = \"hh_size\")) \n",
        "res_2 %>%\n",
        "  summarize(rate_before = sum(rate_before*pop_freq), \n",
        "            se_before = sum(rate_before*pop_freq)/sqrt(sum(deaths_before)),\n",
        "            rate_after = sum(rate_after*pop_freq), \n",
        "            se_after = sum(rate_after*pop_freq)/sqrt(sum(deaths_after))) %>%\n",
        "  mutate(lower_before = rate_before - 1.96*se_before, \n",
        "         upper_before = rate_before+ 1.96*se_before,\n",
        "         lower_after = rate_after - 1.96*se_after, \n",
        "         upper_after = rate_after+ 1.96*se_after) -> adj_rates\n",
        "\n",
        "saveRDS(adj_rates, \"./sample_data/adj_rates.RDS\")\n",
        "\n",
        "t(adj_rates)"
      ],
      "metadata": {
        "colab": {
          "base_uri": "https://localhost:8080/",
          "height": 299
        },
        "id": "wY9NkHaFDnQr",
        "outputId": "3cbe2c51-db43-4e5f-820b-821c2cf698f9"
      },
      "execution_count": null,
      "outputs": [
        {
          "output_type": "display_data",
          "data": {
            "text/plain": [
              "             [,1] \n",
              "rate_before   5.08\n",
              "se_before     1.20\n",
              "rate_after   15.55\n",
              "se_after      2.52\n",
              "lower_before  2.73\n",
              "upper_before  7.42\n",
              "lower_after  10.61\n",
              "upper_after  20.50"
            ],
            "text/latex": "A matrix: 8 × 1 of type dbl\n\\begin{tabular}{r|l}\n\trate\\_before &  5.08\\\\\n\tse\\_before &  1.20\\\\\n\trate\\_after & 15.55\\\\\n\tse\\_after &  2.52\\\\\n\tlower\\_before &  2.73\\\\\n\tupper\\_before &  7.42\\\\\n\tlower\\_after & 10.61\\\\\n\tupper\\_after & 20.50\\\\\n\\end{tabular}\n",
            "text/markdown": "\nA matrix: 8 × 1 of type dbl\n\n| rate_before |  5.08 |\n| se_before |  1.20 |\n| rate_after | 15.55 |\n| se_after |  2.52 |\n| lower_before |  2.73 |\n| upper_before |  7.42 |\n| lower_after | 10.61 |\n| upper_after | 20.50 |\n\n",
            "text/html": [
              "<table class=\"dataframe\">\n",
              "<caption>A matrix: 8 × 1 of type dbl</caption>\n",
              "<tbody>\n",
              "\t<tr><th scope=row>rate_before</th><td> 5.08</td></tr>\n",
              "\t<tr><th scope=row>se_before</th><td> 1.20</td></tr>\n",
              "\t<tr><th scope=row>rate_after</th><td>15.55</td></tr>\n",
              "\t<tr><th scope=row>se_after</th><td> 2.52</td></tr>\n",
              "\t<tr><th scope=row>lower_before</th><td> 2.73</td></tr>\n",
              "\t<tr><th scope=row>upper_before</th><td> 7.42</td></tr>\n",
              "\t<tr><th scope=row>lower_after</th><td>10.61</td></tr>\n",
              "\t<tr><th scope=row>upper_after</th><td>20.50</td></tr>\n",
              "</tbody>\n",
              "</table>\n"
            ]
          },
          "metadata": {}
        }
      ]
    }
  ]
}